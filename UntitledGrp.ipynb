{
 "cells": [
  {
   "cell_type": "code",
   "execution_count": 1,
   "metadata": {},
   "outputs": [
    {
     "data": {
      "text/plain": [
       "'C:\\\\Users\\\\reetb\\\\Desktop\\\\AgAthon'"
      ]
     },
     "execution_count": 1,
     "metadata": {},
     "output_type": "execute_result"
    }
   ],
   "source": [
    "import os\n",
    "os.getcwd()"
   ]
  },
  {
   "cell_type": "code",
   "execution_count": 2,
   "metadata": {},
   "outputs": [],
   "source": [
    "import pandas as pd"
   ]
  },
  {
   "cell_type": "code",
   "execution_count": 3,
   "metadata": {},
   "outputs": [],
   "source": [
    "df = pd.read_csv('points_data3.csv')"
   ]
  },
  {
   "cell_type": "code",
   "execution_count": 4,
   "metadata": {},
   "outputs": [
    {
     "data": {
      "text/plain": [
       "Index(['ID', 'CropTyp', 'Acres', 'Irrigtn', 'IntlSrD', 'LstSrvD', 'DataSrc',\n",
       "       'Notes', 'TRS', 'county', 'RtCrpTy', 'ExctAcr', 'Shp_Lng', 'Shap_Ar',\n",
       "       'CropGrp', 'date', 'year', 'EVI', 'NVDI', 'Albedo', 'GNDVI', 'MSR',\n",
       "       'OSAVI', 'PVR', 'VARIG', 'SIPI', 'GARI', 'mNVDI', 'EPIChlb', 'NDII'],\n",
       "      dtype='object')"
      ]
     },
     "execution_count": 4,
     "metadata": {},
     "output_type": "execute_result"
    }
   ],
   "source": [
    "df.columns"
   ]
  },
  {
   "cell_type": "code",
   "execution_count": 5,
   "metadata": {},
   "outputs": [
    {
     "data": {
      "text/plain": [
       "56"
      ]
     },
     "execution_count": 5,
     "metadata": {},
     "output_type": "execute_result"
    }
   ],
   "source": [
    "len(df['CropTyp'].unique())"
   ]
  },
  {
   "cell_type": "code",
   "execution_count": 6,
   "metadata": {},
   "outputs": [],
   "source": [
    "df = df.dropna(subset=['EVI', 'NVDI', 'Albedo', 'GNDVI', 'MSR','OSAVI', 'PVR', 'VARIG', 'SIPI', 'GARI', 'mNVDI', 'EPIChlb', 'NDII'])"
   ]
  },
  {
   "cell_type": "code",
   "execution_count": 7,
   "metadata": {},
   "outputs": [],
   "source": [
    "df = df.drop(['ID', 'IntlSrD', 'LstSrvD', 'DataSrc', 'Notes', 'TRS', 'county', 'RtCrpTy', 'ExctAcr', 'Shp_Lng', 'Shap_Ar', 'date', 'year'], axis=1)"
   ]
  },
  {
   "cell_type": "code",
   "execution_count": 9,
   "metadata": {},
   "outputs": [],
   "source": [
    "df = df.drop(['CropTyp', 'Irrigtn'], axis=1)"
   ]
  },
  {
   "cell_type": "code",
   "execution_count": 10,
   "metadata": {},
   "outputs": [
    {
     "data": {
      "text/html": [
       "<div>\n",
       "<style scoped>\n",
       "    .dataframe tbody tr th:only-of-type {\n",
       "        vertical-align: middle;\n",
       "    }\n",
       "\n",
       "    .dataframe tbody tr th {\n",
       "        vertical-align: top;\n",
       "    }\n",
       "\n",
       "    .dataframe thead th {\n",
       "        text-align: right;\n",
       "    }\n",
       "</style>\n",
       "<table border=\"1\" class=\"dataframe\">\n",
       "  <thead>\n",
       "    <tr style=\"text-align: right;\">\n",
       "      <th></th>\n",
       "      <th>Acres</th>\n",
       "      <th>CropGrp</th>\n",
       "      <th>EVI</th>\n",
       "      <th>NVDI</th>\n",
       "      <th>Albedo</th>\n",
       "      <th>GNDVI</th>\n",
       "      <th>MSR</th>\n",
       "      <th>OSAVI</th>\n",
       "      <th>PVR</th>\n",
       "      <th>VARIG</th>\n",
       "      <th>SIPI</th>\n",
       "      <th>GARI</th>\n",
       "      <th>mNVDI</th>\n",
       "      <th>EPIChlb</th>\n",
       "      <th>NDII</th>\n",
       "    </tr>\n",
       "  </thead>\n",
       "  <tbody>\n",
       "    <tr>\n",
       "      <td>0</td>\n",
       "      <td>4</td>\n",
       "      <td>Orchard</td>\n",
       "      <td>0.427817</td>\n",
       "      <td>0.794949</td>\n",
       "      <td>0.132105</td>\n",
       "      <td>0.754783</td>\n",
       "      <td>2.093314</td>\n",
       "      <td>0.546581</td>\n",
       "      <td>0.116400</td>\n",
       "      <td>0.145814</td>\n",
       "      <td>0.891848</td>\n",
       "      <td>0.661317</td>\n",
       "      <td>0.877803</td>\n",
       "      <td>0.022413</td>\n",
       "      <td>0.522117</td>\n",
       "    </tr>\n",
       "    <tr>\n",
       "      <td>1</td>\n",
       "      <td>37</td>\n",
       "      <td>Vegetable</td>\n",
       "      <td>0.250359</td>\n",
       "      <td>0.350633</td>\n",
       "      <td>0.132260</td>\n",
       "      <td>0.434539</td>\n",
       "      <td>0.447128</td>\n",
       "      <td>0.616196</td>\n",
       "      <td>-0.098923</td>\n",
       "      <td>-0.137691</td>\n",
       "      <td>0.590718</td>\n",
       "      <td>0.208436</td>\n",
       "      <td>0.501827</td>\n",
       "      <td>0.048898</td>\n",
       "      <td>0.536452</td>\n",
       "    </tr>\n",
       "    <tr>\n",
       "      <td>3</td>\n",
       "      <td>84</td>\n",
       "      <td>Vegetable</td>\n",
       "      <td>0.293365</td>\n",
       "      <td>0.374090</td>\n",
       "      <td>0.158922</td>\n",
       "      <td>0.494862</td>\n",
       "      <td>0.482988</td>\n",
       "      <td>0.636737</td>\n",
       "      <td>-0.148304</td>\n",
       "      <td>-0.205206</td>\n",
       "      <td>0.614956</td>\n",
       "      <td>0.234926</td>\n",
       "      <td>0.499062</td>\n",
       "      <td>0.059000</td>\n",
       "      <td>0.468877</td>\n",
       "    </tr>\n",
       "    <tr>\n",
       "      <td>4</td>\n",
       "      <td>24</td>\n",
       "      <td>Orchard</td>\n",
       "      <td>0.556109</td>\n",
       "      <td>0.829215</td>\n",
       "      <td>0.174470</td>\n",
       "      <td>0.759875</td>\n",
       "      <td>2.345889</td>\n",
       "      <td>0.577111</td>\n",
       "      <td>0.197388</td>\n",
       "      <td>0.277133</td>\n",
       "      <td>0.868445</td>\n",
       "      <td>0.709110</td>\n",
       "      <td>0.941120</td>\n",
       "      <td>0.016380</td>\n",
       "      <td>0.522670</td>\n",
       "    </tr>\n",
       "    <tr>\n",
       "      <td>5</td>\n",
       "      <td>60</td>\n",
       "      <td>Cereal Grain</td>\n",
       "      <td>0.366269</td>\n",
       "      <td>0.652205</td>\n",
       "      <td>0.129180</td>\n",
       "      <td>0.660435</td>\n",
       "      <td>1.223464</td>\n",
       "      <td>0.568183</td>\n",
       "      <td>-0.007552</td>\n",
       "      <td>-0.010992</td>\n",
       "      <td>0.824724</td>\n",
       "      <td>0.483125</td>\n",
       "      <td>0.745229</td>\n",
       "      <td>0.035458</td>\n",
       "      <td>0.527230</td>\n",
       "    </tr>\n",
       "    <tr>\n",
       "      <td>...</td>\n",
       "      <td>...</td>\n",
       "      <td>...</td>\n",
       "      <td>...</td>\n",
       "      <td>...</td>\n",
       "      <td>...</td>\n",
       "      <td>...</td>\n",
       "      <td>...</td>\n",
       "      <td>...</td>\n",
       "      <td>...</td>\n",
       "      <td>...</td>\n",
       "      <td>...</td>\n",
       "      <td>...</td>\n",
       "      <td>...</td>\n",
       "      <td>...</td>\n",
       "      <td>...</td>\n",
       "    </tr>\n",
       "    <tr>\n",
       "      <td>2245</td>\n",
       "      <td>20</td>\n",
       "      <td>Hay/Silage</td>\n",
       "      <td>0.666071</td>\n",
       "      <td>0.916694</td>\n",
       "      <td>0.207213</td>\n",
       "      <td>0.833653</td>\n",
       "      <td>3.866195</td>\n",
       "      <td>0.621325</td>\n",
       "      <td>0.358022</td>\n",
       "      <td>0.490142</td>\n",
       "      <td>0.928778</td>\n",
       "      <td>0.818325</td>\n",
       "      <td>0.984785</td>\n",
       "      <td>0.008440</td>\n",
       "      <td>0.556332</td>\n",
       "    </tr>\n",
       "    <tr>\n",
       "      <td>2246</td>\n",
       "      <td>92</td>\n",
       "      <td>Hay/Silage</td>\n",
       "      <td>0.728124</td>\n",
       "      <td>0.923599</td>\n",
       "      <td>0.231826</td>\n",
       "      <td>0.851732</td>\n",
       "      <td>4.045819</td>\n",
       "      <td>0.678916</td>\n",
       "      <td>0.339187</td>\n",
       "      <td>0.491979</td>\n",
       "      <td>0.926199</td>\n",
       "      <td>0.843325</td>\n",
       "      <td>0.994638</td>\n",
       "      <td>0.009059</td>\n",
       "      <td>0.545877</td>\n",
       "    </tr>\n",
       "    <tr>\n",
       "      <td>2247</td>\n",
       "      <td>33</td>\n",
       "      <td>Nursery</td>\n",
       "      <td>0.269170</td>\n",
       "      <td>0.370053</td>\n",
       "      <td>0.137566</td>\n",
       "      <td>0.444480</td>\n",
       "      <td>0.477110</td>\n",
       "      <td>0.614353</td>\n",
       "      <td>-0.088953</td>\n",
       "      <td>-0.126466</td>\n",
       "      <td>0.584536</td>\n",
       "      <td>0.236548</td>\n",
       "      <td>0.544801</td>\n",
       "      <td>0.047151</td>\n",
       "      <td>0.480429</td>\n",
       "    </tr>\n",
       "    <tr>\n",
       "      <td>2248</td>\n",
       "      <td>1</td>\n",
       "      <td>Orchard</td>\n",
       "      <td>0.429977</td>\n",
       "      <td>0.760587</td>\n",
       "      <td>0.136571</td>\n",
       "      <td>0.700573</td>\n",
       "      <td>1.711784</td>\n",
       "      <td>0.550394</td>\n",
       "      <td>0.128469</td>\n",
       "      <td>0.181951</td>\n",
       "      <td>0.829813</td>\n",
       "      <td>0.634769</td>\n",
       "      <td>0.905706</td>\n",
       "      <td>0.020790</td>\n",
       "      <td>0.534814</td>\n",
       "    </tr>\n",
       "    <tr>\n",
       "      <td>2249</td>\n",
       "      <td>26</td>\n",
       "      <td>Herb</td>\n",
       "      <td>0.469394</td>\n",
       "      <td>0.802415</td>\n",
       "      <td>0.144192</td>\n",
       "      <td>0.762352</td>\n",
       "      <td>2.089402</td>\n",
       "      <td>0.553322</td>\n",
       "      <td>0.111841</td>\n",
       "      <td>0.156255</td>\n",
       "      <td>0.863017</td>\n",
       "      <td>0.690162</td>\n",
       "      <td>0.912470</td>\n",
       "      <td>0.022618</td>\n",
       "      <td>0.486690</td>\n",
       "    </tr>\n",
       "  </tbody>\n",
       "</table>\n",
       "<p>1877 rows × 15 columns</p>\n",
       "</div>"
      ],
      "text/plain": [
       "      Acres       CropGrp       EVI      NVDI    Albedo     GNDVI       MSR  \\\n",
       "0         4       Orchard  0.427817  0.794949  0.132105  0.754783  2.093314   \n",
       "1        37     Vegetable  0.250359  0.350633  0.132260  0.434539  0.447128   \n",
       "3        84     Vegetable  0.293365  0.374090  0.158922  0.494862  0.482988   \n",
       "4        24       Orchard  0.556109  0.829215  0.174470  0.759875  2.345889   \n",
       "5        60  Cereal Grain  0.366269  0.652205  0.129180  0.660435  1.223464   \n",
       "...     ...           ...       ...       ...       ...       ...       ...   \n",
       "2245     20    Hay/Silage  0.666071  0.916694  0.207213  0.833653  3.866195   \n",
       "2246     92    Hay/Silage  0.728124  0.923599  0.231826  0.851732  4.045819   \n",
       "2247     33       Nursery  0.269170  0.370053  0.137566  0.444480  0.477110   \n",
       "2248      1       Orchard  0.429977  0.760587  0.136571  0.700573  1.711784   \n",
       "2249     26          Herb  0.469394  0.802415  0.144192  0.762352  2.089402   \n",
       "\n",
       "         OSAVI       PVR     VARIG      SIPI      GARI     mNVDI   EPIChlb  \\\n",
       "0     0.546581  0.116400  0.145814  0.891848  0.661317  0.877803  0.022413   \n",
       "1     0.616196 -0.098923 -0.137691  0.590718  0.208436  0.501827  0.048898   \n",
       "3     0.636737 -0.148304 -0.205206  0.614956  0.234926  0.499062  0.059000   \n",
       "4     0.577111  0.197388  0.277133  0.868445  0.709110  0.941120  0.016380   \n",
       "5     0.568183 -0.007552 -0.010992  0.824724  0.483125  0.745229  0.035458   \n",
       "...        ...       ...       ...       ...       ...       ...       ...   \n",
       "2245  0.621325  0.358022  0.490142  0.928778  0.818325  0.984785  0.008440   \n",
       "2246  0.678916  0.339187  0.491979  0.926199  0.843325  0.994638  0.009059   \n",
       "2247  0.614353 -0.088953 -0.126466  0.584536  0.236548  0.544801  0.047151   \n",
       "2248  0.550394  0.128469  0.181951  0.829813  0.634769  0.905706  0.020790   \n",
       "2249  0.553322  0.111841  0.156255  0.863017  0.690162  0.912470  0.022618   \n",
       "\n",
       "          NDII  \n",
       "0     0.522117  \n",
       "1     0.536452  \n",
       "3     0.468877  \n",
       "4     0.522670  \n",
       "5     0.527230  \n",
       "...        ...  \n",
       "2245  0.556332  \n",
       "2246  0.545877  \n",
       "2247  0.480429  \n",
       "2248  0.534814  \n",
       "2249  0.486690  \n",
       "\n",
       "[1877 rows x 15 columns]"
      ]
     },
     "execution_count": 10,
     "metadata": {},
     "output_type": "execute_result"
    }
   ],
   "source": [
    "df"
   ]
  },
  {
   "cell_type": "code",
   "execution_count": 11,
   "metadata": {},
   "outputs": [],
   "source": [
    "from sklearn.preprocessing import LabelEncoder"
   ]
  },
  {
   "cell_type": "code",
   "execution_count": 12,
   "metadata": {},
   "outputs": [],
   "source": [
    "from sklearn.model_selection import train_test_split"
   ]
  },
  {
   "cell_type": "code",
   "execution_count": 13,
   "metadata": {},
   "outputs": [],
   "source": [
    "le = LabelEncoder()"
   ]
  },
  {
   "cell_type": "code",
   "execution_count": 14,
   "metadata": {},
   "outputs": [
    {
     "data": {
      "text/plain": [
       "LabelEncoder()"
      ]
     },
     "execution_count": 14,
     "metadata": {},
     "output_type": "execute_result"
    }
   ],
   "source": [
    "le.fit(df['CropGrp'])"
   ]
  },
  {
   "cell_type": "code",
   "execution_count": 15,
   "metadata": {},
   "outputs": [],
   "source": [
    "label = le.transform(df['CropGrp'])"
   ]
  },
  {
   "cell_type": "code",
   "execution_count": 16,
   "metadata": {},
   "outputs": [],
   "source": [
    "df['CropGrp'] = label"
   ]
  },
  {
   "cell_type": "code",
   "execution_count": 19,
   "metadata": {},
   "outputs": [],
   "source": [
    "df = df.drop(['CropGrp'], axis=1)"
   ]
  },
  {
   "cell_type": "code",
   "execution_count": 20,
   "metadata": {},
   "outputs": [
    {
     "data": {
      "text/html": [
       "<div>\n",
       "<style scoped>\n",
       "    .dataframe tbody tr th:only-of-type {\n",
       "        vertical-align: middle;\n",
       "    }\n",
       "\n",
       "    .dataframe tbody tr th {\n",
       "        vertical-align: top;\n",
       "    }\n",
       "\n",
       "    .dataframe thead th {\n",
       "        text-align: right;\n",
       "    }\n",
       "</style>\n",
       "<table border=\"1\" class=\"dataframe\">\n",
       "  <thead>\n",
       "    <tr style=\"text-align: right;\">\n",
       "      <th></th>\n",
       "      <th>Acres</th>\n",
       "      <th>EVI</th>\n",
       "      <th>NVDI</th>\n",
       "      <th>Albedo</th>\n",
       "      <th>GNDVI</th>\n",
       "      <th>MSR</th>\n",
       "      <th>OSAVI</th>\n",
       "      <th>PVR</th>\n",
       "      <th>VARIG</th>\n",
       "      <th>SIPI</th>\n",
       "      <th>GARI</th>\n",
       "      <th>mNVDI</th>\n",
       "      <th>EPIChlb</th>\n",
       "      <th>NDII</th>\n",
       "    </tr>\n",
       "  </thead>\n",
       "  <tbody>\n",
       "    <tr>\n",
       "      <td>0</td>\n",
       "      <td>4</td>\n",
       "      <td>0.427817</td>\n",
       "      <td>0.794949</td>\n",
       "      <td>0.132105</td>\n",
       "      <td>0.754783</td>\n",
       "      <td>2.093314</td>\n",
       "      <td>0.546581</td>\n",
       "      <td>0.116400</td>\n",
       "      <td>0.145814</td>\n",
       "      <td>0.891848</td>\n",
       "      <td>0.661317</td>\n",
       "      <td>0.877803</td>\n",
       "      <td>0.022413</td>\n",
       "      <td>0.522117</td>\n",
       "    </tr>\n",
       "    <tr>\n",
       "      <td>1</td>\n",
       "      <td>37</td>\n",
       "      <td>0.250359</td>\n",
       "      <td>0.350633</td>\n",
       "      <td>0.132260</td>\n",
       "      <td>0.434539</td>\n",
       "      <td>0.447128</td>\n",
       "      <td>0.616196</td>\n",
       "      <td>-0.098923</td>\n",
       "      <td>-0.137691</td>\n",
       "      <td>0.590718</td>\n",
       "      <td>0.208436</td>\n",
       "      <td>0.501827</td>\n",
       "      <td>0.048898</td>\n",
       "      <td>0.536452</td>\n",
       "    </tr>\n",
       "    <tr>\n",
       "      <td>3</td>\n",
       "      <td>84</td>\n",
       "      <td>0.293365</td>\n",
       "      <td>0.374090</td>\n",
       "      <td>0.158922</td>\n",
       "      <td>0.494862</td>\n",
       "      <td>0.482988</td>\n",
       "      <td>0.636737</td>\n",
       "      <td>-0.148304</td>\n",
       "      <td>-0.205206</td>\n",
       "      <td>0.614956</td>\n",
       "      <td>0.234926</td>\n",
       "      <td>0.499062</td>\n",
       "      <td>0.059000</td>\n",
       "      <td>0.468877</td>\n",
       "    </tr>\n",
       "    <tr>\n",
       "      <td>4</td>\n",
       "      <td>24</td>\n",
       "      <td>0.556109</td>\n",
       "      <td>0.829215</td>\n",
       "      <td>0.174470</td>\n",
       "      <td>0.759875</td>\n",
       "      <td>2.345889</td>\n",
       "      <td>0.577111</td>\n",
       "      <td>0.197388</td>\n",
       "      <td>0.277133</td>\n",
       "      <td>0.868445</td>\n",
       "      <td>0.709110</td>\n",
       "      <td>0.941120</td>\n",
       "      <td>0.016380</td>\n",
       "      <td>0.522670</td>\n",
       "    </tr>\n",
       "    <tr>\n",
       "      <td>5</td>\n",
       "      <td>60</td>\n",
       "      <td>0.366269</td>\n",
       "      <td>0.652205</td>\n",
       "      <td>0.129180</td>\n",
       "      <td>0.660435</td>\n",
       "      <td>1.223464</td>\n",
       "      <td>0.568183</td>\n",
       "      <td>-0.007552</td>\n",
       "      <td>-0.010992</td>\n",
       "      <td>0.824724</td>\n",
       "      <td>0.483125</td>\n",
       "      <td>0.745229</td>\n",
       "      <td>0.035458</td>\n",
       "      <td>0.527230</td>\n",
       "    </tr>\n",
       "    <tr>\n",
       "      <td>...</td>\n",
       "      <td>...</td>\n",
       "      <td>...</td>\n",
       "      <td>...</td>\n",
       "      <td>...</td>\n",
       "      <td>...</td>\n",
       "      <td>...</td>\n",
       "      <td>...</td>\n",
       "      <td>...</td>\n",
       "      <td>...</td>\n",
       "      <td>...</td>\n",
       "      <td>...</td>\n",
       "      <td>...</td>\n",
       "      <td>...</td>\n",
       "      <td>...</td>\n",
       "    </tr>\n",
       "    <tr>\n",
       "      <td>2245</td>\n",
       "      <td>20</td>\n",
       "      <td>0.666071</td>\n",
       "      <td>0.916694</td>\n",
       "      <td>0.207213</td>\n",
       "      <td>0.833653</td>\n",
       "      <td>3.866195</td>\n",
       "      <td>0.621325</td>\n",
       "      <td>0.358022</td>\n",
       "      <td>0.490142</td>\n",
       "      <td>0.928778</td>\n",
       "      <td>0.818325</td>\n",
       "      <td>0.984785</td>\n",
       "      <td>0.008440</td>\n",
       "      <td>0.556332</td>\n",
       "    </tr>\n",
       "    <tr>\n",
       "      <td>2246</td>\n",
       "      <td>92</td>\n",
       "      <td>0.728124</td>\n",
       "      <td>0.923599</td>\n",
       "      <td>0.231826</td>\n",
       "      <td>0.851732</td>\n",
       "      <td>4.045819</td>\n",
       "      <td>0.678916</td>\n",
       "      <td>0.339187</td>\n",
       "      <td>0.491979</td>\n",
       "      <td>0.926199</td>\n",
       "      <td>0.843325</td>\n",
       "      <td>0.994638</td>\n",
       "      <td>0.009059</td>\n",
       "      <td>0.545877</td>\n",
       "    </tr>\n",
       "    <tr>\n",
       "      <td>2247</td>\n",
       "      <td>33</td>\n",
       "      <td>0.269170</td>\n",
       "      <td>0.370053</td>\n",
       "      <td>0.137566</td>\n",
       "      <td>0.444480</td>\n",
       "      <td>0.477110</td>\n",
       "      <td>0.614353</td>\n",
       "      <td>-0.088953</td>\n",
       "      <td>-0.126466</td>\n",
       "      <td>0.584536</td>\n",
       "      <td>0.236548</td>\n",
       "      <td>0.544801</td>\n",
       "      <td>0.047151</td>\n",
       "      <td>0.480429</td>\n",
       "    </tr>\n",
       "    <tr>\n",
       "      <td>2248</td>\n",
       "      <td>1</td>\n",
       "      <td>0.429977</td>\n",
       "      <td>0.760587</td>\n",
       "      <td>0.136571</td>\n",
       "      <td>0.700573</td>\n",
       "      <td>1.711784</td>\n",
       "      <td>0.550394</td>\n",
       "      <td>0.128469</td>\n",
       "      <td>0.181951</td>\n",
       "      <td>0.829813</td>\n",
       "      <td>0.634769</td>\n",
       "      <td>0.905706</td>\n",
       "      <td>0.020790</td>\n",
       "      <td>0.534814</td>\n",
       "    </tr>\n",
       "    <tr>\n",
       "      <td>2249</td>\n",
       "      <td>26</td>\n",
       "      <td>0.469394</td>\n",
       "      <td>0.802415</td>\n",
       "      <td>0.144192</td>\n",
       "      <td>0.762352</td>\n",
       "      <td>2.089402</td>\n",
       "      <td>0.553322</td>\n",
       "      <td>0.111841</td>\n",
       "      <td>0.156255</td>\n",
       "      <td>0.863017</td>\n",
       "      <td>0.690162</td>\n",
       "      <td>0.912470</td>\n",
       "      <td>0.022618</td>\n",
       "      <td>0.486690</td>\n",
       "    </tr>\n",
       "  </tbody>\n",
       "</table>\n",
       "<p>1877 rows × 14 columns</p>\n",
       "</div>"
      ],
      "text/plain": [
       "      Acres       EVI      NVDI    Albedo     GNDVI       MSR     OSAVI  \\\n",
       "0         4  0.427817  0.794949  0.132105  0.754783  2.093314  0.546581   \n",
       "1        37  0.250359  0.350633  0.132260  0.434539  0.447128  0.616196   \n",
       "3        84  0.293365  0.374090  0.158922  0.494862  0.482988  0.636737   \n",
       "4        24  0.556109  0.829215  0.174470  0.759875  2.345889  0.577111   \n",
       "5        60  0.366269  0.652205  0.129180  0.660435  1.223464  0.568183   \n",
       "...     ...       ...       ...       ...       ...       ...       ...   \n",
       "2245     20  0.666071  0.916694  0.207213  0.833653  3.866195  0.621325   \n",
       "2246     92  0.728124  0.923599  0.231826  0.851732  4.045819  0.678916   \n",
       "2247     33  0.269170  0.370053  0.137566  0.444480  0.477110  0.614353   \n",
       "2248      1  0.429977  0.760587  0.136571  0.700573  1.711784  0.550394   \n",
       "2249     26  0.469394  0.802415  0.144192  0.762352  2.089402  0.553322   \n",
       "\n",
       "           PVR     VARIG      SIPI      GARI     mNVDI   EPIChlb      NDII  \n",
       "0     0.116400  0.145814  0.891848  0.661317  0.877803  0.022413  0.522117  \n",
       "1    -0.098923 -0.137691  0.590718  0.208436  0.501827  0.048898  0.536452  \n",
       "3    -0.148304 -0.205206  0.614956  0.234926  0.499062  0.059000  0.468877  \n",
       "4     0.197388  0.277133  0.868445  0.709110  0.941120  0.016380  0.522670  \n",
       "5    -0.007552 -0.010992  0.824724  0.483125  0.745229  0.035458  0.527230  \n",
       "...        ...       ...       ...       ...       ...       ...       ...  \n",
       "2245  0.358022  0.490142  0.928778  0.818325  0.984785  0.008440  0.556332  \n",
       "2246  0.339187  0.491979  0.926199  0.843325  0.994638  0.009059  0.545877  \n",
       "2247 -0.088953 -0.126466  0.584536  0.236548  0.544801  0.047151  0.480429  \n",
       "2248  0.128469  0.181951  0.829813  0.634769  0.905706  0.020790  0.534814  \n",
       "2249  0.111841  0.156255  0.863017  0.690162  0.912470  0.022618  0.486690  \n",
       "\n",
       "[1877 rows x 14 columns]"
      ]
     },
     "execution_count": 20,
     "metadata": {},
     "output_type": "execute_result"
    }
   ],
   "source": [
    "df"
   ]
  },
  {
   "cell_type": "code",
   "execution_count": 17,
   "metadata": {},
   "outputs": [],
   "source": [
    "from sklearn.compose import make_column_transformer"
   ]
  },
  {
   "cell_type": "code",
   "execution_count": 19,
   "metadata": {},
   "outputs": [],
   "source": [
    "from sklearn.preprocessing import OneHotEncoder"
   ]
  },
  {
   "cell_type": "code",
   "execution_count": 20,
   "metadata": {},
   "outputs": [],
   "source": [
    "column_trans = make_column_transformer((OneHotEncoder(), ['Irrigtn', 'CropGrp']), remainder='passthrough')"
   ]
  },
  {
   "cell_type": "code",
   "execution_count": 25,
   "metadata": {},
   "outputs": [],
   "source": [
    "df = column_trans.fit_transform(df)"
   ]
  },
  {
   "cell_type": "code",
   "execution_count": 21,
   "metadata": {},
   "outputs": [],
   "source": [
    "from sklearn.preprocessing import MinMaxScaler"
   ]
  },
  {
   "cell_type": "code",
   "execution_count": 22,
   "metadata": {},
   "outputs": [],
   "source": [
    "min_max_scaler = MinMaxScaler()"
   ]
  },
  {
   "cell_type": "code",
   "execution_count": 23,
   "metadata": {},
   "outputs": [],
   "source": [
    "X = min_max_scaler.fit_transform(df)"
   ]
  },
  {
   "cell_type": "code",
   "execution_count": 24,
   "metadata": {},
   "outputs": [
    {
     "data": {
      "text/plain": [
       "array([[0.01140684, 0.45866881, 0.83120293, ..., 0.84019588, 0.2229831 ,\n",
       "        0.54410377],\n",
       "       [0.13688213, 0.19390497, 0.26094787, ..., 0.34924379, 0.5886954 ,\n",
       "        0.59042957],\n",
       "       [0.31558935, 0.25806915, 0.29105338, ..., 0.34563317, 0.72819526,\n",
       "        0.37204394],\n",
       "       ...,\n",
       "       [0.121673  , 0.22196933, 0.28587213, ..., 0.40535988, 0.56457157,\n",
       "        0.40937683],\n",
       "       [0.        , 0.46189098, 0.78710173, ..., 0.8766316 , 0.2005789 ,\n",
       "        0.58513618],\n",
       "       [0.09505703, 0.52070084, 0.8407852 , ..., 0.88546481, 0.22581039,\n",
       "        0.42961123]])"
      ]
     },
     "execution_count": 24,
     "metadata": {},
     "output_type": "execute_result"
    }
   ],
   "source": [
    "X"
   ]
  },
  {
   "cell_type": "code",
   "execution_count": 25,
   "metadata": {},
   "outputs": [],
   "source": [
    "X_train, X_test, y_train, y_test = train_test_split(X, label, test_size=0.3, random_state=42)"
   ]
  },
  {
   "cell_type": "code",
   "execution_count": 26,
   "metadata": {},
   "outputs": [],
   "source": [
    "from sklearn.ensemble import RandomForestClassifier"
   ]
  },
  {
   "cell_type": "code",
   "execution_count": 27,
   "metadata": {},
   "outputs": [],
   "source": [
    "clf1 = RandomForestClassifier(max_depth=2, random_state=0, n_estimators=1000)"
   ]
  },
  {
   "cell_type": "code",
   "execution_count": 28,
   "metadata": {},
   "outputs": [
    {
     "data": {
      "text/plain": [
       "RandomForestClassifier(bootstrap=True, class_weight=None, criterion='gini',\n",
       "                       max_depth=2, max_features='auto', max_leaf_nodes=None,\n",
       "                       min_impurity_decrease=0.0, min_impurity_split=None,\n",
       "                       min_samples_leaf=1, min_samples_split=2,\n",
       "                       min_weight_fraction_leaf=0.0, n_estimators=1000,\n",
       "                       n_jobs=None, oob_score=False, random_state=0, verbose=0,\n",
       "                       warm_start=False)"
      ]
     },
     "execution_count": 28,
     "metadata": {},
     "output_type": "execute_result"
    }
   ],
   "source": [
    "clf1.fit(X_train, y_train)"
   ]
  },
  {
   "cell_type": "code",
   "execution_count": 29,
   "metadata": {},
   "outputs": [],
   "source": [
    "y_pred1 = clf1.predict(X_test)"
   ]
  },
  {
   "cell_type": "code",
   "execution_count": 30,
   "metadata": {},
   "outputs": [],
   "source": [
    "from sklearn.metrics import accuracy_score"
   ]
  },
  {
   "cell_type": "code",
   "execution_count": 31,
   "metadata": {},
   "outputs": [
    {
     "data": {
      "text/plain": [
       "0.4946808510638298"
      ]
     },
     "execution_count": 31,
     "metadata": {},
     "output_type": "execute_result"
    }
   ],
   "source": [
    "accuracy_score(y_test, y_pred1)"
   ]
  },
  {
   "cell_type": "code",
   "execution_count": 32,
   "metadata": {},
   "outputs": [],
   "source": [
    "from sklearn.ensemble import GradientBoostingClassifier"
   ]
  },
  {
   "cell_type": "code",
   "execution_count": 33,
   "metadata": {},
   "outputs": [],
   "source": [
    "clf2 = GradientBoostingClassifier(random_state=0)"
   ]
  },
  {
   "cell_type": "code",
   "execution_count": 34,
   "metadata": {},
   "outputs": [
    {
     "data": {
      "text/plain": [
       "GradientBoostingClassifier(criterion='friedman_mse', init=None,\n",
       "                           learning_rate=0.1, loss='deviance', max_depth=3,\n",
       "                           max_features=None, max_leaf_nodes=None,\n",
       "                           min_impurity_decrease=0.0, min_impurity_split=None,\n",
       "                           min_samples_leaf=1, min_samples_split=2,\n",
       "                           min_weight_fraction_leaf=0.0, n_estimators=100,\n",
       "                           n_iter_no_change=None, presort='auto',\n",
       "                           random_state=0, subsample=1.0, tol=0.0001,\n",
       "                           validation_fraction=0.1, verbose=0,\n",
       "                           warm_start=False)"
      ]
     },
     "execution_count": 34,
     "metadata": {},
     "output_type": "execute_result"
    }
   ],
   "source": [
    "clf2.fit(X_train, y_train)"
   ]
  },
  {
   "cell_type": "code",
   "execution_count": 35,
   "metadata": {},
   "outputs": [],
   "source": [
    "y_pred2 = clf2.predict(X_test)"
   ]
  },
  {
   "cell_type": "code",
   "execution_count": 36,
   "metadata": {},
   "outputs": [
    {
     "data": {
      "text/plain": [
       "0.5904255319148937"
      ]
     },
     "execution_count": 36,
     "metadata": {},
     "output_type": "execute_result"
    }
   ],
   "source": [
    "accuracy_score(y_test, y_pred2)"
   ]
  },
  {
   "cell_type": "code",
   "execution_count": 37,
   "metadata": {},
   "outputs": [],
   "source": [
    "from sklearn.neighbors import KNeighborsClassifier"
   ]
  },
  {
   "cell_type": "code",
   "execution_count": 38,
   "metadata": {},
   "outputs": [],
   "source": [
    "clf3 = KNeighborsClassifier(n_neighbors=20)"
   ]
  },
  {
   "cell_type": "code",
   "execution_count": 39,
   "metadata": {},
   "outputs": [
    {
     "data": {
      "text/plain": [
       "KNeighborsClassifier(algorithm='auto', leaf_size=30, metric='minkowski',\n",
       "                     metric_params=None, n_jobs=None, n_neighbors=20, p=2,\n",
       "                     weights='uniform')"
      ]
     },
     "execution_count": 39,
     "metadata": {},
     "output_type": "execute_result"
    }
   ],
   "source": [
    "clf3.fit(X_train, y_train)"
   ]
  },
  {
   "cell_type": "code",
   "execution_count": 40,
   "metadata": {},
   "outputs": [],
   "source": [
    "y_pred3 = clf3.predict(X_test)"
   ]
  },
  {
   "cell_type": "code",
   "execution_count": 41,
   "metadata": {},
   "outputs": [
    {
     "data": {
      "text/plain": [
       "0.5620567375886525"
      ]
     },
     "execution_count": 41,
     "metadata": {},
     "output_type": "execute_result"
    }
   ],
   "source": [
    "accuracy_score(y_test, y_pred3)"
   ]
  },
  {
   "cell_type": "code",
   "execution_count": 42,
   "metadata": {},
   "outputs": [],
   "source": [
    "pred = pd.DataFrame(y_pred1, columns =['Pred1']) "
   ]
  },
  {
   "cell_type": "code",
   "execution_count": 43,
   "metadata": {},
   "outputs": [],
   "source": [
    "pred['Pred2'] = y_pred2\n",
    "pred['Pred3'] = y_pred3"
   ]
  },
  {
   "cell_type": "code",
   "execution_count": 44,
   "metadata": {},
   "outputs": [
    {
     "data": {
      "text/html": [
       "<div>\n",
       "<style scoped>\n",
       "    .dataframe tbody tr th:only-of-type {\n",
       "        vertical-align: middle;\n",
       "    }\n",
       "\n",
       "    .dataframe tbody tr th {\n",
       "        vertical-align: top;\n",
       "    }\n",
       "\n",
       "    .dataframe thead th {\n",
       "        text-align: right;\n",
       "    }\n",
       "</style>\n",
       "<table border=\"1\" class=\"dataframe\">\n",
       "  <thead>\n",
       "    <tr style=\"text-align: right;\">\n",
       "      <th></th>\n",
       "      <th>Pred1</th>\n",
       "      <th>Pred2</th>\n",
       "      <th>Pred3</th>\n",
       "    </tr>\n",
       "  </thead>\n",
       "  <tbody>\n",
       "    <tr>\n",
       "      <td>0</td>\n",
       "      <td>7</td>\n",
       "      <td>7</td>\n",
       "      <td>7</td>\n",
       "    </tr>\n",
       "    <tr>\n",
       "      <td>1</td>\n",
       "      <td>3</td>\n",
       "      <td>3</td>\n",
       "      <td>3</td>\n",
       "    </tr>\n",
       "    <tr>\n",
       "      <td>2</td>\n",
       "      <td>11</td>\n",
       "      <td>11</td>\n",
       "      <td>11</td>\n",
       "    </tr>\n",
       "    <tr>\n",
       "      <td>3</td>\n",
       "      <td>11</td>\n",
       "      <td>11</td>\n",
       "      <td>11</td>\n",
       "    </tr>\n",
       "    <tr>\n",
       "      <td>4</td>\n",
       "      <td>3</td>\n",
       "      <td>11</td>\n",
       "      <td>8</td>\n",
       "    </tr>\n",
       "    <tr>\n",
       "      <td>...</td>\n",
       "      <td>...</td>\n",
       "      <td>...</td>\n",
       "      <td>...</td>\n",
       "    </tr>\n",
       "    <tr>\n",
       "      <td>559</td>\n",
       "      <td>7</td>\n",
       "      <td>7</td>\n",
       "      <td>7</td>\n",
       "    </tr>\n",
       "    <tr>\n",
       "      <td>560</td>\n",
       "      <td>3</td>\n",
       "      <td>3</td>\n",
       "      <td>3</td>\n",
       "    </tr>\n",
       "    <tr>\n",
       "      <td>561</td>\n",
       "      <td>3</td>\n",
       "      <td>3</td>\n",
       "      <td>3</td>\n",
       "    </tr>\n",
       "    <tr>\n",
       "      <td>562</td>\n",
       "      <td>3</td>\n",
       "      <td>11</td>\n",
       "      <td>11</td>\n",
       "    </tr>\n",
       "    <tr>\n",
       "      <td>563</td>\n",
       "      <td>7</td>\n",
       "      <td>11</td>\n",
       "      <td>1</td>\n",
       "    </tr>\n",
       "  </tbody>\n",
       "</table>\n",
       "<p>564 rows × 3 columns</p>\n",
       "</div>"
      ],
      "text/plain": [
       "     Pred1  Pred2  Pred3\n",
       "0        7      7      7\n",
       "1        3      3      3\n",
       "2       11     11     11\n",
       "3       11     11     11\n",
       "4        3     11      8\n",
       "..     ...    ...    ...\n",
       "559      7      7      7\n",
       "560      3      3      3\n",
       "561      3      3      3\n",
       "562      3     11     11\n",
       "563      7     11      1\n",
       "\n",
       "[564 rows x 3 columns]"
      ]
     },
     "execution_count": 44,
     "metadata": {},
     "output_type": "execute_result"
    }
   ],
   "source": [
    "pred"
   ]
  },
  {
   "cell_type": "code",
   "execution_count": 45,
   "metadata": {},
   "outputs": [],
   "source": [
    "y_pred = pred.mode(axis=1)"
   ]
  },
  {
   "cell_type": "code",
   "execution_count": 46,
   "metadata": {},
   "outputs": [
    {
     "data": {
      "text/html": [
       "<div>\n",
       "<style scoped>\n",
       "    .dataframe tbody tr th:only-of-type {\n",
       "        vertical-align: middle;\n",
       "    }\n",
       "\n",
       "    .dataframe tbody tr th {\n",
       "        vertical-align: top;\n",
       "    }\n",
       "\n",
       "    .dataframe thead th {\n",
       "        text-align: right;\n",
       "    }\n",
       "</style>\n",
       "<table border=\"1\" class=\"dataframe\">\n",
       "  <thead>\n",
       "    <tr style=\"text-align: right;\">\n",
       "      <th></th>\n",
       "      <th>0</th>\n",
       "      <th>1</th>\n",
       "      <th>2</th>\n",
       "    </tr>\n",
       "  </thead>\n",
       "  <tbody>\n",
       "    <tr>\n",
       "      <td>0</td>\n",
       "      <td>7.0</td>\n",
       "      <td>NaN</td>\n",
       "      <td>NaN</td>\n",
       "    </tr>\n",
       "    <tr>\n",
       "      <td>1</td>\n",
       "      <td>3.0</td>\n",
       "      <td>NaN</td>\n",
       "      <td>NaN</td>\n",
       "    </tr>\n",
       "    <tr>\n",
       "      <td>2</td>\n",
       "      <td>11.0</td>\n",
       "      <td>NaN</td>\n",
       "      <td>NaN</td>\n",
       "    </tr>\n",
       "    <tr>\n",
       "      <td>3</td>\n",
       "      <td>11.0</td>\n",
       "      <td>NaN</td>\n",
       "      <td>NaN</td>\n",
       "    </tr>\n",
       "    <tr>\n",
       "      <td>4</td>\n",
       "      <td>3.0</td>\n",
       "      <td>8.0</td>\n",
       "      <td>11.0</td>\n",
       "    </tr>\n",
       "    <tr>\n",
       "      <td>...</td>\n",
       "      <td>...</td>\n",
       "      <td>...</td>\n",
       "      <td>...</td>\n",
       "    </tr>\n",
       "    <tr>\n",
       "      <td>559</td>\n",
       "      <td>7.0</td>\n",
       "      <td>NaN</td>\n",
       "      <td>NaN</td>\n",
       "    </tr>\n",
       "    <tr>\n",
       "      <td>560</td>\n",
       "      <td>3.0</td>\n",
       "      <td>NaN</td>\n",
       "      <td>NaN</td>\n",
       "    </tr>\n",
       "    <tr>\n",
       "      <td>561</td>\n",
       "      <td>3.0</td>\n",
       "      <td>NaN</td>\n",
       "      <td>NaN</td>\n",
       "    </tr>\n",
       "    <tr>\n",
       "      <td>562</td>\n",
       "      <td>11.0</td>\n",
       "      <td>NaN</td>\n",
       "      <td>NaN</td>\n",
       "    </tr>\n",
       "    <tr>\n",
       "      <td>563</td>\n",
       "      <td>1.0</td>\n",
       "      <td>7.0</td>\n",
       "      <td>11.0</td>\n",
       "    </tr>\n",
       "  </tbody>\n",
       "</table>\n",
       "<p>564 rows × 3 columns</p>\n",
       "</div>"
      ],
      "text/plain": [
       "        0    1     2\n",
       "0     7.0  NaN   NaN\n",
       "1     3.0  NaN   NaN\n",
       "2    11.0  NaN   NaN\n",
       "3    11.0  NaN   NaN\n",
       "4     3.0  8.0  11.0\n",
       "..    ...  ...   ...\n",
       "559   7.0  NaN   NaN\n",
       "560   3.0  NaN   NaN\n",
       "561   3.0  NaN   NaN\n",
       "562  11.0  NaN   NaN\n",
       "563   1.0  7.0  11.0\n",
       "\n",
       "[564 rows x 3 columns]"
      ]
     },
     "execution_count": 46,
     "metadata": {},
     "output_type": "execute_result"
    }
   ],
   "source": [
    "y_pred"
   ]
  },
  {
   "cell_type": "code",
   "execution_count": 47,
   "metadata": {},
   "outputs": [
    {
     "data": {
      "text/plain": [
       "0.5638297872340425"
      ]
     },
     "execution_count": 47,
     "metadata": {},
     "output_type": "execute_result"
    }
   ],
   "source": [
    "accuracy_score(y_test, y_pred[0])"
   ]
  },
  {
   "cell_type": "code",
   "execution_count": 48,
   "metadata": {},
   "outputs": [],
   "source": [
    "from sklearn.metrics import classification_report"
   ]
  },
  {
   "cell_type": "code",
   "execution_count": 49,
   "metadata": {},
   "outputs": [
    {
     "name": "stdout",
     "output_type": "stream",
     "text": [
      "              precision    recall  f1-score   support\n",
      "\n",
      "         0.0       0.00      0.00      0.00         0\n",
      "         1.0       0.55      0.35      0.43       105\n",
      "         2.0       0.00      0.00      0.00         1\n",
      "         3.0       0.54      0.83      0.66       132\n",
      "         4.0       0.00      0.00      0.00         6\n",
      "         5.0       0.00      0.00      0.00         8\n",
      "         6.0       0.00      0.00      0.00         2\n",
      "         7.0       0.58      0.83      0.69       154\n",
      "         8.0       0.45      0.11      0.18        45\n",
      "         9.0       1.00      0.12      0.22         8\n",
      "        10.0       0.00      0.00      0.00         2\n",
      "        11.0       0.62      0.41      0.49        90\n",
      "        12.0       0.00      0.00      0.00        11\n",
      "\n",
      "    accuracy                           0.56       564\n",
      "   macro avg       0.29      0.20      0.21       564\n",
      "weighted avg       0.54      0.56      0.52       564\n",
      "\n"
     ]
    },
    {
     "name": "stderr",
     "output_type": "stream",
     "text": [
      "C:\\Users\\reetb\\Anaconda3\\lib\\site-packages\\sklearn\\metrics\\classification.py:1437: UndefinedMetricWarning: Precision and F-score are ill-defined and being set to 0.0 in labels with no predicted samples.\n",
      "  'precision', 'predicted', average, warn_for)\n",
      "C:\\Users\\reetb\\Anaconda3\\lib\\site-packages\\sklearn\\metrics\\classification.py:1439: UndefinedMetricWarning: Recall and F-score are ill-defined and being set to 0.0 in labels with no true samples.\n",
      "  'recall', 'true', average, warn_for)\n"
     ]
    }
   ],
   "source": [
    "print(classification_report(y_test, y_pred[0]))"
   ]
  },
  {
   "cell_type": "code",
   "execution_count": 50,
   "metadata": {},
   "outputs": [
    {
     "name": "stdout",
     "output_type": "stream",
     "text": [
      "              precision    recall  f1-score   support\n",
      "\n",
      "           1       0.58      0.13      0.22       105\n",
      "           2       0.00      0.00      0.00         1\n",
      "           3       0.47      0.86      0.61       132\n",
      "           4       0.00      0.00      0.00         6\n",
      "           5       0.00      0.00      0.00         8\n",
      "           6       0.00      0.00      0.00         2\n",
      "           7       0.49      0.82      0.61       154\n",
      "           8       0.00      0.00      0.00        45\n",
      "           9       0.00      0.00      0.00         8\n",
      "          10       0.00      0.00      0.00         2\n",
      "          11       0.58      0.29      0.39        90\n",
      "          12       0.00      0.00      0.00        11\n",
      "\n",
      "    accuracy                           0.49       564\n",
      "   macro avg       0.18      0.17      0.15       564\n",
      "weighted avg       0.45      0.49      0.41       564\n",
      "\n"
     ]
    }
   ],
   "source": [
    "print(classification_report(y_test, y_pred1))"
   ]
  },
  {
   "cell_type": "code",
   "execution_count": 51,
   "metadata": {},
   "outputs": [
    {
     "name": "stdout",
     "output_type": "stream",
     "text": [
      "              precision    recall  f1-score   support\n",
      "\n",
      "           0       0.00      0.00      0.00         0\n",
      "           1       0.55      0.44      0.49       105\n",
      "           2       0.00      0.00      0.00         1\n",
      "           3       0.65      0.78      0.71       132\n",
      "           4       0.20      0.17      0.18         6\n",
      "           5       0.33      0.12      0.18         8\n",
      "           6       0.00      0.00      0.00         2\n",
      "           7       0.63      0.81      0.71       154\n",
      "           8       0.39      0.24      0.30        45\n",
      "           9       0.33      0.12      0.18         8\n",
      "          10       0.00      0.00      0.00         2\n",
      "          11       0.56      0.50      0.53        90\n",
      "          12       0.33      0.09      0.14        11\n",
      "\n",
      "    accuracy                           0.59       564\n",
      "   macro avg       0.31      0.25      0.26       564\n",
      "weighted avg       0.57      0.59      0.57       564\n",
      "\n"
     ]
    }
   ],
   "source": [
    "print(classification_report(y_test, y_pred2))"
   ]
  },
  {
   "cell_type": "code",
   "execution_count": 52,
   "metadata": {},
   "outputs": [
    {
     "name": "stdout",
     "output_type": "stream",
     "text": [
      "              precision    recall  f1-score   support\n",
      "\n",
      "           1       0.54      0.36      0.43       105\n",
      "           2       0.00      0.00      0.00         1\n",
      "           3       0.60      0.78      0.68       132\n",
      "           4       0.00      0.00      0.00         6\n",
      "           5       0.00      0.00      0.00         8\n",
      "           6       0.00      0.00      0.00         2\n",
      "           7       0.59      0.82      0.69       154\n",
      "           8       0.39      0.16      0.22        45\n",
      "           9       1.00      0.12      0.22         8\n",
      "          10       0.00      0.00      0.00         2\n",
      "          11       0.58      0.44      0.50        90\n",
      "          12       0.07      0.09      0.08        11\n",
      "\n",
      "    accuracy                           0.56       564\n",
      "   macro avg       0.31      0.23      0.23       564\n",
      "weighted avg       0.54      0.56      0.53       564\n",
      "\n"
     ]
    }
   ],
   "source": [
    "print(classification_report(y_test, y_pred3))"
   ]
  },
  {
   "cell_type": "code",
   "execution_count": null,
   "metadata": {},
   "outputs": [],
   "source": []
  }
 ],
 "metadata": {
  "kernelspec": {
   "display_name": "Python 3",
   "language": "python",
   "name": "python3"
  },
  "language_info": {
   "codemirror_mode": {
    "name": "ipython",
    "version": 3
   },
   "file_extension": ".py",
   "mimetype": "text/x-python",
   "name": "python",
   "nbconvert_exporter": "python",
   "pygments_lexer": "ipython3",
   "version": "3.7.4"
  }
 },
 "nbformat": 4,
 "nbformat_minor": 2
}
